{
  "nbformat": 4,
  "nbformat_minor": 0,
  "metadata": {
    "accelerator": "GPU",
    "colab": {
      "provenance": [],
      "machine_shape": "hm",
      "include_colab_link": true
    },
    "kernelspec": {
      "display_name": "Python 3",
      "name": "python3"
    }
  },
  "cells": [
    {
      "cell_type": "markdown",
      "metadata": {
        "id": "view-in-github",
        "colab_type": "text"
      },
      "source": [
        "<a href=\"https://colab.research.google.com/github/alikilic1631/aaaa/blob/main/DrugNet_Main_Document.ipynb\" target=\"_parent\"><img src=\"https://colab.research.google.com/assets/colab-badge.svg\" alt=\"Open In Colab\"/></a>"
      ]
    },
    {
      "cell_type": "code",
      "metadata": {
        "id": "57__aRzyCIQE",
        "colab": {
          "base_uri": "https://localhost:8080/"
        },
        "outputId": "b1b9f685-1e29-4e80-df94-72de29fd9fd4"
      },
      "source": [
        "from google.colab import drive\n",
        "drive.mount('/content/drive')"
      ],
      "execution_count": null,
      "outputs": [
        {
          "output_type": "stream",
          "text": [
            "Mounted at /content/drive\n"
          ],
          "name": "stdout"
        }
      ]
    },
    {
      "cell_type": "code",
      "metadata": {
        "id": "_E3Ymbo66mWa"
      },
      "source": [
        "import joblib\n",
        "import numpy as np\n",
        "import pandas as pd\n",
        "import sklearn\n",
        "from sklearn import mixture\n",
        "from keras.engine import Layer\n",
        "import os\n",
        "import tensorflow as tf\n",
        "import tensorflow_probability as tfp\n",
        "from tensorflow import clip_by_global_norm\n",
        "from tensorflow.keras.callbacks import TensorBoard\n",
        "from tensorflow.keras.initializers import lecun_normal\n",
        "from tensorflow.keras.optimizers import Adam,SGD\n",
        "from tensorflow.keras.losses import binary_crossentropy,MAE,MSE,CategoricalCrossentropy\n",
        "from tensorflow.keras import layers as lyrs\n",
        "from tensorflow.keras.layers import *\n",
        "from tensorflow import keras\n",
        "from tensorflow.keras import Model\n",
        "from tensorflow.keras.layers import Concatenate as concat\n",
        "import tensorflow.keras.backend as back\n",
        "from tensorflow.keras.metrics import BinaryAccuracy\n",
        "from tensorflow.math import reduce_logsumexp, reduce_mean, reduce_sum\n",
        "from tensorflow.keras.backend import clip\n",
        "from tensorflow.linalg import tensor_diag\n",
        "from tensorflow.nn import softplus\n",
        "from collections import Counter\n",
        "import sklearn\n",
        "from sklearn.preprocessing import OneHotEncoder, LabelEncoder\n",
        "from time import time\n",
        "from tensorflow.keras.callbacks import ModelCheckpoint\n",
        "from tensorflow.keras.regularizers import l2"
      ],
      "execution_count": null,
      "outputs": []
    },
    {
      "cell_type": "markdown",
      "metadata": {
        "id": "5PVuANYcLxAQ"
      },
      "source": [
        "# **Importing Preprocessed Data**"
      ]
    },
    {
      "cell_type": "code",
      "metadata": {
        "id": "deHZN9E6o8Zo"
      },
      "source": [
        "selfies_data_path=str(input(\"Insert selfies_data_path: \"))\n",
        "x_train = np.load(selfies_data_path,allow_pickle=True)"
      ],
      "execution_count": null,
      "outputs": []
    },
    {
      "cell_type": "markdown",
      "metadata": {
        "id": "Q-pOkQOR7ck3"
      },
      "source": [
        "# **Building Parts of MAE**"
      ]
    },
    {
      "cell_type": "code",
      "metadata": {
        "id": "MbB88Wme_IV8"
      },
      "source": [
        "latent_dim=84\n",
        "mol_input_shape=(128)\n",
        "mol_feat_num=84"
      ],
      "execution_count": null,
      "outputs": []
    },
    {
      "cell_type": "code",
      "metadata": {
        "id": "rCkLA8jKhY1k"
      },
      "source": [
        "def mish(x):\n",
        "  return x*back.tanh(back.softplus(x))\n",
        "\n",
        "from keras.utils.generic_utils import get_custom_objects\n",
        "get_custom_objects().update({'mish': Activation(mish)})"
      ],
      "execution_count": null,
      "outputs": []
    },
    {
      "cell_type": "code",
      "metadata": {
        "id": "PU30Auj06wLY"
      },
      "source": [
        "def build_MAE(latent_dim,mol_input_shape,mol_feat_num):\n",
        "  mol_input=Input(shape=(mol_input_shape))\n",
        "  lyr=Embedding(mol_feat_num+1,mol_feat_num,input_length=mol_input_shape,mask_zero=True)(mol_input)\n",
        "\n",
        "  lyr=Bidirectional(GRU(240,return_sequences=True),merge_mode='concat')(lyr)\n",
        "  lyr=LayerNormalization()(lyr)\n",
        "\n",
        "  lyr=Bidirectional(GRU(240,return_sequences=True),merge_mode='concat')(lyr)\n",
        "  lyr=LayerNormalization()(lyr)\n",
        "\n",
        "  #--------------------latent---------------------------------\n",
        "\n",
        "  lyr=GlobalMaxPool1D()(lyr)\n",
        "  latent_vector=Dense(latent_dim,activation=\"linear\")(lyr)\n",
        "\n",
        "  mae_encoder=Model(mol_input,latent_vector,name=\"mae_encoder\")\n",
        "  mae_encoder.summary()\n",
        "\n",
        "  #-------------------decoder-------------------------------\n",
        "\n",
        "  input=Input(shape=(latent_dim,))\n",
        "  lyr=RepeatVector(mol_input_shape)(input)\n",
        "\n",
        "  lyr=Reshape((mol_input_shape,latent_dim))(lyr)\n",
        "\n",
        "  lyr=GRU(240*2,return_sequences=True,kernel_regularizer=l2(0.01))(lyr)\n",
        "  lyr=LayerNormalization()(lyr)\n",
        "\n",
        "  lyr=GRU(240*2,return_sequences=True,kernel_regularizer=l2(0.01))(lyr)\n",
        "  lyr=LayerNormalization()(lyr)\n",
        "\n",
        "  output=TimeDistributed(Dense(mol_feat_num+1, activation='softmax'))(lyr)\n",
        "  mae_decoder=Model(input,output,name=\"mae_decoder\")\n",
        "\n",
        "  mae_decoder.summary()\n",
        "  return mae_encoder,mae_decoder"
      ],
      "execution_count": null,
      "outputs": []
    },
    {
      "cell_type": "code",
      "metadata": {
        "colab": {
          "base_uri": "https://localhost:8080/"
        },
        "id": "veQ21zjKx4V0",
        "outputId": "0a36b5e9-8061-4fc7-aff8-4cf70cbe769d"
      },
      "source": [
        "mae_encoder,mae_decoder=build_MAE(latent_dim,mol_input_shape,mol_feat_num)"
      ],
      "execution_count": null,
      "outputs": [
        {
          "output_type": "stream",
          "text": [
            "Model: \"rae_encoder\"\n",
            "_________________________________________________________________\n",
            "Layer (type)                 Output Shape              Param #   \n",
            "=================================================================\n",
            "input_1 (InputLayer)         [(None, 128)]             0         \n",
            "_________________________________________________________________\n",
            "embedding (Embedding)        (None, 128, 84)           7140      \n",
            "_________________________________________________________________\n",
            "bidirectional (Bidirectional (None, 128, 480)          469440    \n",
            "_________________________________________________________________\n",
            "layer_normalization (LayerNo (None, 128, 480)          960       \n",
            "_________________________________________________________________\n",
            "bidirectional_1 (Bidirection (None, 128, 480)          1039680   \n",
            "_________________________________________________________________\n",
            "layer_normalization_1 (Layer (None, 128, 480)          960       \n",
            "_________________________________________________________________\n",
            "global_max_pooling1d (Global (None, 480)               0         \n",
            "_________________________________________________________________\n",
            "dense (Dense)                (None, 84)                40404     \n",
            "=================================================================\n",
            "Total params: 1,558,584\n",
            "Trainable params: 1,558,584\n",
            "Non-trainable params: 0\n",
            "_________________________________________________________________\n",
            "Model: \"rae_decoder\"\n",
            "_________________________________________________________________\n",
            "Layer (type)                 Output Shape              Param #   \n",
            "=================================================================\n",
            "input_2 (InputLayer)         [(None, 84)]              0         \n",
            "_________________________________________________________________\n",
            "repeat_vector (RepeatVector) (None, 128, 84)           0         \n",
            "_________________________________________________________________\n",
            "reshape (Reshape)            (None, 128, 84)           0         \n",
            "_________________________________________________________________\n",
            "gru_2 (GRU)                  (None, 128, 480)          815040    \n",
            "_________________________________________________________________\n",
            "layer_normalization_2 (Layer (None, 128, 480)          960       \n",
            "_________________________________________________________________\n",
            "gru_3 (GRU)                  (None, 128, 480)          1385280   \n",
            "_________________________________________________________________\n",
            "layer_normalization_3 (Layer (None, 128, 480)          960       \n",
            "_________________________________________________________________\n",
            "time_distributed (TimeDistri (None, 128, 85)           40885     \n",
            "=================================================================\n",
            "Total params: 2,243,125\n",
            "Trainable params: 2,243,125\n",
            "Non-trainable params: 0\n",
            "_________________________________________________________________\n"
          ],
          "name": "stdout"
        }
      ]
    },
    {
      "cell_type": "markdown",
      "metadata": {
        "id": "X4cir8yG7u3_"
      },
      "source": [
        "# **Regularized Autoencoder with L2 Regularization**\n",
        "\n",
        "\n",
        "\n",
        "\n"
      ]
    },
    {
      "cell_type": "code",
      "metadata": {
        "id": "kBOM94xBScun"
      },
      "source": [
        "mae_recon_loss=tf.keras.losses.SparseCategoricalCrossentropy()\n",
        "\n",
        "def mae_reg_loss(latent_sample):\n",
        "  return reduce_mean(back.square(latent_sample))/4"
      ],
      "execution_count": null,
      "outputs": []
    },
    {
      "cell_type": "code",
      "metadata": {
        "id": "4Ke42Hs0-Puj"
      },
      "source": [
        "class MAE(Model):\n",
        "  def __init__(self,mae_encoder,mae_decoder,latent_dim):\n",
        "\n",
        "    super(MAE,self).__init__()\n",
        "\n",
        "    self.mae_encoder=mae_encoder\n",
        "    self.mae_decoder=mae_decoder\n",
        "\n",
        "    self.latent_dim=latent_dim\n",
        "\n",
        "  def compile(self,mae_optimizer,\n",
        "              mae_recon_loss,mae_reg_loss):\n",
        "    super().compile()\n",
        "\n",
        "    self.mae_optimizer=mae_optimizer\n",
        "\n",
        "    self.mae_recon_loss=mae_recon_loss\n",
        "    self.mae_reg_loss=mae_reg_loss\n",
        "\n",
        "  def train_step(self,x):\n",
        "\n",
        "    batch_size=back.shape(x)[0]\n",
        "\n",
        "    with tf.GradientTape() as tape:\n",
        "      latent_sample=self.mae_encoder(x,training=True)\n",
        "      reconstructed_x=self.mae_decoder(latent_sample,training=True)\n",
        "\n",
        "      mae_recon_loss=128*self.mae_recon_loss(x,reconstructed_x)\n",
        "      mae_reg_loss=self.mae_reg_loss(latent_sample)\n",
        "\n",
        "      mae_loss=mae_recon_loss+mae_reg_loss\n",
        "\n",
        "    mae_gradient=tape.gradient(mae_loss,(self.mae_encoder.trainable_variables+self.mae_decoder.trainable_variables))\n",
        "    self.mae_optimizer.apply_gradients(zip(mae_gradient,(self.mae_encoder.trainable_variables+self.mae_decoder.trainable_variables)))\n",
        "\n",
        "    return {\n",
        "        \"MAE_Reconstruction_Loss\": mae_recon_loss,\n",
        "        \"MAE_Reg_loss\": mae_reg_loss\n",
        "            }"
      ],
      "execution_count": null,
      "outputs": []
    },
    {
      "cell_type": "code",
      "metadata": {
        "id": "pctMX7j6Htmo"
      },
      "source": [
        "clipping_val=0.5\n",
        "MAE_l2=MAE(mae_encoder,mae_decoder,latent_dim)\n",
        "\n",
        "mae_optimizer=Adam(learning_rate=0.0005,\n",
        "                    beta_1=0.9,\n",
        "                    beta_2=0.99,\n",
        "                   clipvalue=clipping_val)\n",
        "\n",
        "MAE_l2.compile(mae_optimizer,mae_recon_loss,mae_reg_loss)"
      ],
      "execution_count": null,
      "outputs": []
    },
    {
      "cell_type": "code",
      "metadata": {
        "id": "TyjnQZVGeRC1",
        "colab": {
          "base_uri": "https://localhost:8080/"
        },
        "outputId": "5e7b1e44-8ca7-4a08-93c4-a17c19374845"
      },
      "source": [
        "encoder_path=str(input(\"Insert encoder_path: \"))\n",
        "decoder_path=str(input(\"Insert decoder_path: \"))"
      ],
      "execution_count": null,
      "outputs": [
        {
          "output_type": "execute_result",
          "data": {
            "text/plain": [
              "<tensorflow.python.training.tracking.util.CheckpointLoadStatus at 0x7f9ae0173198>"
            ]
          },
          "metadata": {
            "tags": []
          },
          "execution_count": 10
        }
      ]
    },
    {
      "cell_type": "code",
      "metadata": {
        "id": "KApeyT3Ibsuc"
      },
      "source": [
        "MAE_l2.mae_encoder.load_weights(encoder_path)\n",
        "MAE_l2.mae_decoder.load_weights(decoder_path)"
      ],
      "execution_count": null,
      "outputs": []
    },
    {
      "cell_type": "markdown",
      "metadata": {
        "id": "jnRa53cDh934"
      },
      "source": [
        "# **XPDE Training**"
      ]
    },
    {
      "cell_type": "code",
      "metadata": {
        "id": "I8msRml7msTz"
      },
      "source": [
        "bgmm_sampler=mixture.BayesianGaussianMixture(n_components=12,covariance_type='full',verbose=4,verbose_interval=5,warm_start=True)"
      ],
      "execution_count": null,
      "outputs": []
    },
    {
      "cell_type": "code",
      "metadata": {
        "id": "PG96wH1lsayM"
      },
      "source": [
        "bgmm_sampler_path=str(input(\"Insert bgmm_sampler_path: \"))\n",
        "bgmm_sampler = joblib.load(bgmm_sampler_path)"
      ],
      "execution_count": null,
      "outputs": []
    },
    {
      "cell_type": "code",
      "metadata": {
        "colab": {
          "base_uri": "https://localhost:8080/"
        },
        "id": "lzklKGPGSGGq",
        "outputId": "7f9aebbf-f0d6-4d41-c43b-2066af3dc1b5"
      },
      "source": [
        "! wget https://repo.anaconda.com/miniconda/Miniconda3-py37_4.8.2-Linux-x86_64.sh\n",
        "! chmod +x Miniconda3-py37_4.8.2-Linux-x86_64.sh\n",
        "! bash ./Miniconda3-py37_4.8.2-Linux-x86_64.sh -b -f -p /usr/local\n",
        "! conda install -c rdkit rdkit -y\n",
        "import sys\n",
        "sys.path.append('/usr/local/lib/python3.7/site-packages/')"
      ],
      "execution_count": null,
      "outputs": [
        {
          "output_type": "stream",
          "text": [
            "--2021-01-28 19:05:43--  https://repo.anaconda.com/miniconda/Miniconda3-py37_4.8.2-Linux-x86_64.sh\n",
            "Resolving repo.anaconda.com (repo.anaconda.com)... 104.16.130.3, 104.16.131.3, 2606:4700::6810:8303, ...\n",
            "Connecting to repo.anaconda.com (repo.anaconda.com)|104.16.130.3|:443... connected.\n",
            "HTTP request sent, awaiting response... 200 OK\n",
            "Length: 85055499 (81M) [application/x-sh]\n",
            "Saving to: ‘Miniconda3-py37_4.8.2-Linux-x86_64.sh’\n",
            "\n",
            "Miniconda3-py37_4.8 100%[===================>]  81.12M  96.4MB/s    in 0.8s    \n",
            "\n",
            "2021-01-28 19:05:44 (96.4 MB/s) - ‘Miniconda3-py37_4.8.2-Linux-x86_64.sh’ saved [85055499/85055499]\n",
            "\n",
            "PREFIX=/usr/local\n",
            "Unpacking payload ...\n",
            "Collecting package metadata (current_repodata.json): - \b\b\\ \b\b| \b\bdone\n",
            "Solving environment: - \b\b\\ \b\bdone\n",
            "\n",
            "## Package Plan ##\n",
            "\n",
            "  environment location: /usr/local\n",
            "\n",
            "  added / updated specs:\n",
            "    - _libgcc_mutex==0.1=main\n",
            "    - asn1crypto==1.3.0=py37_0\n",
            "    - ca-certificates==2020.1.1=0\n",
            "    - certifi==2019.11.28=py37_0\n",
            "    - cffi==1.14.0=py37h2e261b9_0\n",
            "    - chardet==3.0.4=py37_1003\n",
            "    - conda-package-handling==1.6.0=py37h7b6447c_0\n",
            "    - conda==4.8.2=py37_0\n",
            "    - cryptography==2.8=py37h1ba5d50_0\n",
            "    - idna==2.8=py37_0\n",
            "    - ld_impl_linux-64==2.33.1=h53a641e_7\n",
            "    - libedit==3.1.20181209=hc058e9b_0\n",
            "    - libffi==3.2.1=hd88cf55_4\n",
            "    - libgcc-ng==9.1.0=hdf63c60_0\n",
            "    - libstdcxx-ng==9.1.0=hdf63c60_0\n",
            "    - ncurses==6.2=he6710b0_0\n",
            "    - openssl==1.1.1d=h7b6447c_4\n",
            "    - pip==20.0.2=py37_1\n",
            "    - pycosat==0.6.3=py37h7b6447c_0\n",
            "    - pycparser==2.19=py37_0\n",
            "    - pyopenssl==19.1.0=py37_0\n",
            "    - pysocks==1.7.1=py37_0\n",
            "    - python==3.7.6=h0371630_2\n",
            "    - readline==7.0=h7b6447c_5\n",
            "    - requests==2.22.0=py37_1\n",
            "    - ruamel_yaml==0.15.87=py37h7b6447c_0\n",
            "    - setuptools==45.2.0=py37_0\n",
            "    - six==1.14.0=py37_0\n",
            "    - sqlite==3.31.1=h7b6447c_0\n",
            "    - tk==8.6.8=hbc83047_0\n",
            "    - tqdm==4.42.1=py_0\n",
            "    - urllib3==1.25.8=py37_0\n",
            "    - wheel==0.34.2=py37_0\n",
            "    - xz==5.2.4=h14c3975_4\n",
            "    - yaml==0.1.7=had09818_2\n",
            "    - zlib==1.2.11=h7b6447c_3\n",
            "\n",
            "\n",
            "The following NEW packages will be INSTALLED:\n",
            "\n",
            "  _libgcc_mutex      pkgs/main/linux-64::_libgcc_mutex-0.1-main\n",
            "  asn1crypto         pkgs/main/linux-64::asn1crypto-1.3.0-py37_0\n",
            "  ca-certificates    pkgs/main/linux-64::ca-certificates-2020.1.1-0\n",
            "  certifi            pkgs/main/linux-64::certifi-2019.11.28-py37_0\n",
            "  cffi               pkgs/main/linux-64::cffi-1.14.0-py37h2e261b9_0\n",
            "  chardet            pkgs/main/linux-64::chardet-3.0.4-py37_1003\n",
            "  conda              pkgs/main/linux-64::conda-4.8.2-py37_0\n",
            "  conda-package-han~ pkgs/main/linux-64::conda-package-handling-1.6.0-py37h7b6447c_0\n",
            "  cryptography       pkgs/main/linux-64::cryptography-2.8-py37h1ba5d50_0\n",
            "  idna               pkgs/main/linux-64::idna-2.8-py37_0\n",
            "  ld_impl_linux-64   pkgs/main/linux-64::ld_impl_linux-64-2.33.1-h53a641e_7\n",
            "  libedit            pkgs/main/linux-64::libedit-3.1.20181209-hc058e9b_0\n",
            "  libffi             pkgs/main/linux-64::libffi-3.2.1-hd88cf55_4\n",
            "  libgcc-ng          pkgs/main/linux-64::libgcc-ng-9.1.0-hdf63c60_0\n",
            "  libstdcxx-ng       pkgs/main/linux-64::libstdcxx-ng-9.1.0-hdf63c60_0\n",
            "  ncurses            pkgs/main/linux-64::ncurses-6.2-he6710b0_0\n",
            "  openssl            pkgs/main/linux-64::openssl-1.1.1d-h7b6447c_4\n",
            "  pip                pkgs/main/linux-64::pip-20.0.2-py37_1\n",
            "  pycosat            pkgs/main/linux-64::pycosat-0.6.3-py37h7b6447c_0\n",
            "  pycparser          pkgs/main/linux-64::pycparser-2.19-py37_0\n",
            "  pyopenssl          pkgs/main/linux-64::pyopenssl-19.1.0-py37_0\n",
            "  pysocks            pkgs/main/linux-64::pysocks-1.7.1-py37_0\n",
            "  python             pkgs/main/linux-64::python-3.7.6-h0371630_2\n",
            "  readline           pkgs/main/linux-64::readline-7.0-h7b6447c_5\n",
            "  requests           pkgs/main/linux-64::requests-2.22.0-py37_1\n",
            "  ruamel_yaml        pkgs/main/linux-64::ruamel_yaml-0.15.87-py37h7b6447c_0\n",
            "  setuptools         pkgs/main/linux-64::setuptools-45.2.0-py37_0\n",
            "  six                pkgs/main/linux-64::six-1.14.0-py37_0\n",
            "  sqlite             pkgs/main/linux-64::sqlite-3.31.1-h7b6447c_0\n",
            "  tk                 pkgs/main/linux-64::tk-8.6.8-hbc83047_0\n",
            "  tqdm               pkgs/main/noarch::tqdm-4.42.1-py_0\n",
            "  urllib3            pkgs/main/linux-64::urllib3-1.25.8-py37_0\n",
            "  wheel              pkgs/main/linux-64::wheel-0.34.2-py37_0\n",
            "  xz                 pkgs/main/linux-64::xz-5.2.4-h14c3975_4\n",
            "  yaml               pkgs/main/linux-64::yaml-0.1.7-had09818_2\n",
            "  zlib               pkgs/main/linux-64::zlib-1.2.11-h7b6447c_3\n",
            "\n",
            "\n",
            "Preparing transaction: / \b\b- \b\b\\ \b\b| \b\bdone\n",
            "Executing transaction: - \b\b\\ \b\b| \b\b/ \b\b- \b\b\\ \b\b| \b\b/ \b\b- \b\b\\ \b\b| \b\b/ \b\b- \b\b\\ \b\b| \b\b/ \b\bdone\n",
            "installation finished.\n",
            "WARNING:\n",
            "    You currently have a PYTHONPATH environment variable set. This may cause\n",
            "    unexpected behavior when running the Python interpreter in Miniconda3.\n",
            "    For best results, please verify that your PYTHONPATH only points to\n",
            "    directories of packages that are compatible with the Python interpreter\n",
            "    in Miniconda3: /usr/local\n",
            "Collecting package metadata (current_repodata.json): - \b\b\\ \b\b| \b\b/ \b\b- \b\b\\ \b\b| \b\b/ \b\b- \b\b\\ \b\b| \b\b/ \b\b- \b\b\\ \b\b| \b\b/ \b\b- \b\b\\ \b\bdone\n",
            "Solving environment: / \b\b- \b\b\\ \b\b| \b\b/ \b\b- \b\b\\ \b\b| \b\b/ \b\b- \b\b\\ \b\bdone\n",
            "\n",
            "## Package Plan ##\n",
            "\n",
            "  environment location: /usr/local\n",
            "\n",
            "  added / updated specs:\n",
            "    - rdkit\n",
            "\n",
            "\n",
            "The following packages will be downloaded:\n",
            "\n",
            "    package                    |            build\n",
            "    ---------------------------|-----------------\n",
            "    blas-1.0                   |              mkl           6 KB\n",
            "    bzip2-1.0.8                |       h7b6447c_0          78 KB\n",
            "    ca-certificates-2021.1.19  |       h06a4308_0         121 KB\n",
            "    cairo-1.14.12              |       h8948797_3         906 KB\n",
            "    certifi-2020.12.5          |   py37h06a4308_0         141 KB\n",
            "    conda-4.9.2                |   py37h06a4308_0         2.9 MB\n",
            "    fontconfig-2.13.0          |       h9420a91_0         227 KB\n",
            "    freetype-2.10.4            |       h5ab3b9f_0         596 KB\n",
            "    glib-2.66.1                |       h92f7085_0         2.9 MB\n",
            "    icu-58.2                   |       he6710b0_3        10.5 MB\n",
            "    intel-openmp-2020.2        |              254         786 KB\n",
            "    jpeg-9b                    |       h024ee3a_2         214 KB\n",
            "    lcms2-2.11                 |       h396b838_0         307 KB\n",
            "    libboost-1.73.0            |      h3ff78a5_11        13.9 MB\n",
            "    libffi-3.3                 |       he6710b0_2          50 KB\n",
            "    libpng-1.6.37              |       hbc83047_0         278 KB\n",
            "    libtiff-4.1.0              |       h2733197_1         449 KB\n",
            "    libuuid-1.0.3              |       h1bed415_2          15 KB\n",
            "    libxcb-1.14                |       h7b6447c_0         505 KB\n",
            "    libxml2-2.9.10             |       hb55368b_3         1.2 MB\n",
            "    lz4-c-1.9.3                |       h2531618_0         186 KB\n",
            "    mkl-2020.2                 |              256       138.3 MB\n",
            "    mkl-service-2.3.0          |   py37he8ac12f_0          52 KB\n",
            "    mkl_fft-1.2.0              |   py37h23d657b_0         148 KB\n",
            "    mkl_random-1.1.1           |   py37h0573a6f_0         322 KB\n",
            "    numpy-1.19.2               |   py37h54aff64_0          22 KB\n",
            "    numpy-base-1.19.2          |   py37hfa32c7d_0         4.1 MB\n",
            "    olefile-0.46               |           py37_0          50 KB\n",
            "    openssl-1.1.1i             |       h27cfd23_0         2.5 MB\n",
            "    pandas-1.2.1               |   py37ha9443f7_0         8.5 MB\n",
            "    pcre-8.44                  |       he6710b0_0         212 KB\n",
            "    pillow-8.1.0               |   py37he98fc37_0         623 KB\n",
            "    pixman-0.40.0              |       h7b6447c_0         370 KB\n",
            "    py-boost-1.73.0            |  py37ha9443f7_11         204 KB\n",
            "    python-dateutil-2.8.1      |             py_0         215 KB\n",
            "    pytz-2020.5                |     pyhd3eb1b0_0         182 KB\n",
            "    rdkit-2020.09.1.0          |   py37hd50e099_1        25.8 MB  rdkit\n",
            "    xz-5.2.5                   |       h7b6447c_0         341 KB\n",
            "    zstd-1.4.5                 |       h9ceee32_0         619 KB\n",
            "    ------------------------------------------------------------\n",
            "                                           Total:       218.7 MB\n",
            "\n",
            "The following NEW packages will be INSTALLED:\n",
            "\n",
            "  blas               pkgs/main/linux-64::blas-1.0-mkl\n",
            "  bzip2              pkgs/main/linux-64::bzip2-1.0.8-h7b6447c_0\n",
            "  cairo              pkgs/main/linux-64::cairo-1.14.12-h8948797_3\n",
            "  fontconfig         pkgs/main/linux-64::fontconfig-2.13.0-h9420a91_0\n",
            "  freetype           pkgs/main/linux-64::freetype-2.10.4-h5ab3b9f_0\n",
            "  glib               pkgs/main/linux-64::glib-2.66.1-h92f7085_0\n",
            "  icu                pkgs/main/linux-64::icu-58.2-he6710b0_3\n",
            "  intel-openmp       pkgs/main/linux-64::intel-openmp-2020.2-254\n",
            "  jpeg               pkgs/main/linux-64::jpeg-9b-h024ee3a_2\n",
            "  lcms2              pkgs/main/linux-64::lcms2-2.11-h396b838_0\n",
            "  libboost           pkgs/main/linux-64::libboost-1.73.0-h3ff78a5_11\n",
            "  libpng             pkgs/main/linux-64::libpng-1.6.37-hbc83047_0\n",
            "  libtiff            pkgs/main/linux-64::libtiff-4.1.0-h2733197_1\n",
            "  libuuid            pkgs/main/linux-64::libuuid-1.0.3-h1bed415_2\n",
            "  libxcb             pkgs/main/linux-64::libxcb-1.14-h7b6447c_0\n",
            "  libxml2            pkgs/main/linux-64::libxml2-2.9.10-hb55368b_3\n",
            "  lz4-c              pkgs/main/linux-64::lz4-c-1.9.3-h2531618_0\n",
            "  mkl                pkgs/main/linux-64::mkl-2020.2-256\n",
            "  mkl-service        pkgs/main/linux-64::mkl-service-2.3.0-py37he8ac12f_0\n",
            "  mkl_fft            pkgs/main/linux-64::mkl_fft-1.2.0-py37h23d657b_0\n",
            "  mkl_random         pkgs/main/linux-64::mkl_random-1.1.1-py37h0573a6f_0\n",
            "  numpy              pkgs/main/linux-64::numpy-1.19.2-py37h54aff64_0\n",
            "  numpy-base         pkgs/main/linux-64::numpy-base-1.19.2-py37hfa32c7d_0\n",
            "  olefile            pkgs/main/linux-64::olefile-0.46-py37_0\n",
            "  pandas             pkgs/main/linux-64::pandas-1.2.1-py37ha9443f7_0\n",
            "  pcre               pkgs/main/linux-64::pcre-8.44-he6710b0_0\n",
            "  pillow             pkgs/main/linux-64::pillow-8.1.0-py37he98fc37_0\n",
            "  pixman             pkgs/main/linux-64::pixman-0.40.0-h7b6447c_0\n",
            "  py-boost           pkgs/main/linux-64::py-boost-1.73.0-py37ha9443f7_11\n",
            "  python-dateutil    pkgs/main/noarch::python-dateutil-2.8.1-py_0\n",
            "  pytz               pkgs/main/noarch::pytz-2020.5-pyhd3eb1b0_0\n",
            "  rdkit              rdkit/linux-64::rdkit-2020.09.1.0-py37hd50e099_1\n",
            "  zstd               pkgs/main/linux-64::zstd-1.4.5-h9ceee32_0\n",
            "\n",
            "The following packages will be UPDATED:\n",
            "\n",
            "  ca-certificates                                2020.1.1-0 --> 2021.1.19-h06a4308_0\n",
            "  certifi                                 2019.11.28-py37_0 --> 2020.12.5-py37h06a4308_0\n",
            "  conda                                        4.8.2-py37_0 --> 4.9.2-py37h06a4308_0\n",
            "  libffi                                   3.2.1-hd88cf55_4 --> 3.3-he6710b0_2\n",
            "  openssl                                 1.1.1d-h7b6447c_4 --> 1.1.1i-h27cfd23_0\n",
            "  xz                                       5.2.4-h14c3975_4 --> 5.2.5-h7b6447c_0\n",
            "\n",
            "\n",
            "\n",
            "Downloading and Extracting Packages\n",
            "libuuid-1.0.3        | 15 KB     | : 100% 1.0/1 [00:00<00:00, 11.19it/s]\n",
            "conda-4.9.2          | 2.9 MB    | : 100% 1.0/1 [00:00<00:00,  5.22it/s]\n",
            "lz4-c-1.9.3          | 186 KB    | : 100% 1.0/1 [00:00<00:00, 19.88it/s]\n",
            "cairo-1.14.12        | 906 KB    | : 100% 1.0/1 [00:00<00:00, 12.14it/s]\n",
            "pandas-1.2.1         | 8.5 MB    | : 100% 1.0/1 [00:00<00:00,  1.56it/s]               \n",
            "py-boost-1.73.0      | 204 KB    | : 100% 1.0/1 [00:00<00:00,  9.86it/s]\n",
            "numpy-1.19.2         | 22 KB     | : 100% 1.0/1 [00:00<00:00, 19.41it/s]\n",
            "glib-2.66.1          | 2.9 MB    | : 100% 1.0/1 [00:00<00:00,  5.64it/s]\n",
            "blas-1.0             | 6 KB      | : 100% 1.0/1 [00:00<00:00, 19.19it/s]\n",
            "lcms2-2.11           | 307 KB    | : 100% 1.0/1 [00:00<00:00, 15.96it/s]\n",
            "certifi-2020.12.5    | 141 KB    | : 100% 1.0/1 [00:00<00:00, 20.02it/s]\n",
            "olefile-0.46         | 50 KB     | : 100% 1.0/1 [00:00<00:00, 21.35it/s]\n",
            "mkl_random-1.1.1     | 322 KB    | : 100% 1.0/1 [00:00<00:00, 15.18it/s]\n",
            "fontconfig-2.13.0    | 227 KB    | : 100% 1.0/1 [00:00<00:00, 17.90it/s]\n",
            "jpeg-9b              | 214 KB    | : 100% 1.0/1 [00:00<00:00, 14.31it/s]\n",
            "mkl_fft-1.2.0        | 148 KB    | : 100% 1.0/1 [00:00<00:00, 16.86it/s]\n",
            "bzip2-1.0.8          | 78 KB     | : 100% 1.0/1 [00:00<00:00, 18.38it/s]\n",
            "freetype-2.10.4      | 596 KB    | : 100% 1.0/1 [00:00<00:00, 11.54it/s]\n",
            "mkl-service-2.3.0    | 52 KB     | : 100% 1.0/1 [00:00<00:00, 21.31it/s]\n",
            "python-dateutil-2.8. | 215 KB    | : 100% 1.0/1 [00:00<00:00, 19.14it/s]\n",
            "libxml2-2.9.10       | 1.2 MB    | : 100% 1.0/1 [00:00<00:00,  9.29it/s]\n",
            "mkl-2020.2           | 138.3 MB  | : 100% 1.0/1 [00:04<00:00,  4.58s/it]               \n",
            "libxcb-1.14          | 505 KB    | : 100% 1.0/1 [00:00<00:00, 12.02it/s]\n",
            "numpy-base-1.19.2    | 4.1 MB    | : 100% 1.0/1 [00:00<00:00,  3.95it/s]\n",
            "zstd-1.4.5           | 619 KB    | : 100% 1.0/1 [00:00<00:00, 15.41it/s]\n",
            "libtiff-4.1.0        | 449 KB    | : 100% 1.0/1 [00:00<00:00, 15.08it/s]\n",
            "ca-certificates-2021 | 121 KB    | : 100% 1.0/1 [00:00<00:00, 18.99it/s]\n",
            "libffi-3.3           | 50 KB     | : 100% 1.0/1 [00:00<00:00, 19.29it/s]\n",
            "icu-58.2             | 10.5 MB   | : 100% 1.0/1 [00:00<00:00,  2.72it/s]               \n",
            "pixman-0.40.0        | 370 KB    | : 100% 1.0/1 [00:00<00:00, 14.75it/s]\n",
            "intel-openmp-2020.2  | 786 KB    | : 100% 1.0/1 [00:00<00:00, 13.54it/s]\n",
            "xz-5.2.5             | 341 KB    | : 100% 1.0/1 [00:00<00:00, 13.70it/s]\n",
            "libboost-1.73.0      | 13.9 MB   | : 100% 1.0/1 [00:01<00:00,  1.13s/it]               \n",
            "rdkit-2020.09.1.0    | 25.8 MB   | : 100% 1.0/1 [00:04<00:00,  4.77s/it]\n",
            "pytz-2020.5          | 182 KB    | : 100% 1.0/1 [00:00<00:00, 11.04it/s]\n",
            "libpng-1.6.37        | 278 KB    | : 100% 1.0/1 [00:00<00:00, 18.26it/s]\n",
            "pcre-8.44            | 212 KB    | : 100% 1.0/1 [00:00<00:00, 19.04it/s]\n",
            "pillow-8.1.0         | 623 KB    | : 100% 1.0/1 [00:00<00:00, 12.23it/s]\n",
            "openssl-1.1.1i       | 2.5 MB    | : 100% 1.0/1 [00:00<00:00,  6.54it/s]\n",
            "Preparing transaction: / \b\b- \b\b\\ \b\b| \b\b/ \b\b- \b\b\\ \b\b| \b\b/ \b\bdone\n",
            "Verifying transaction: \\ \b\b| \b\b/ \b\b- \b\b\\ \b\b| \b\b/ \b\b- \b\b\\ \b\b| \b\b/ \b\b- \b\b\\ \b\b| \b\b/ \b\b- \b\b\\ \b\b| \b\b/ \b\b- \b\b\\ \b\b| \b\b/ \b\b- \b\b\\ \b\b| \b\b/ \b\b- \b\b\\ \b\b| \b\b/ \b\bdone\n",
            "Executing transaction: \\ \b\b| \b\b/ \b\b- \b\b\\ \b\b| \b\b/ \b\b- \b\b\\ \b\b| \b\b/ \b\b- \b\b\\ \b\b| \b\b/ \b\b- \b\b\\ \b\b| \b\b/ \b\b- \b\b\\ \b\b| \b\b/ \b\b- \b\b\\ \b\b| \b\b/ \b\b- \b\b\\ \b\b| \b\b/ \b\b- \b\b\\ \b\b| \b\b/ \b\b- \b\b\\ \b\b| \b\b/ \b\b- \b\b\\ \b\b| \b\b/ \b\b- \b\b\\ \b\b| \b\b/ \b\b- \b\b\\ \b\b| \b\b/ \b\b- \b\b\\ \b\b| \b\b/ \b\b- \b\b\\ \b\b| \b\b/ \b\b- \b\b\\ \b\b| \b\b/ \b\b- \b\b\\ \b\b| \b\b/ \b\b- \b\b\\ \b\b| \b\b/ \b\b- \b\b\\ \b\b| \b\b/ \b\b- \b\b\\ \b\b| \b\b/ \b\b- \b\b\\ \b\b| \b\b/ \b\b- \b\b\\ \b\b| \b\b/ \b\b- \b\b\\ \b\b| \b\b/ \b\b- \b\b\\ \b\b| \b\b/ \b\b- \b\b\\ \b\b| \b\b/ \b\b- \b\b\\ \b\b| \b\b/ \b\b- \b\b\\ \b\b| \b\b/ \b\b- \b\b\\ \b\b| \b\b/ \b\b- \b\b\\ \b\b| \b\b/ \b\b- \b\b\\ \b\b| \b\b/ \b\b- \b\b\\ \b\b| \b\b/ \b\b- \b\b\\ \b\b| \b\b/ \b\b- \b\b\\ \b\b| \b\b/ \b\b- \b\b\\ \b\b| \b\b/ \b\b- \b\b\\ \b\b| \b\b/ \b\b- \b\b\\ \b\b| \b\b/ \b\b- \b\b\\ \b\b| \b\b/ \b\b- \b\b\\ \b\b| \b\b/ \b\b- \b\b\\ \b\b| \b\b/ \b\b- \b\b\\ \b\b| \b\b/ \b\b- \b\b\\ \b\b| \b\b/ \b\b- \b\b\\ \b\b| \b\b/ \b\b- \b\b\\ \b\b| \b\b/ \b\b- \b\b\\ \b\b| \b\b/ \b\b- \b\b\\ \b\b| \b\b/ \b\b- \b\b\\ \b\b| \b\b/ \b\b- \b\b\\ \b\b| \b\b/ \b\b- \b\b\\ \b\b| \b\b/ \b\b- \b\b\\ \b\b| \b\b/ \b\b- \b\b\\ \b\b| \b\b/ \b\b- \b\b\\ \b\b| \b\b/ \b\b- \b\b\\ \b\b| \b\b/ \b\b- \b\b\\ \b\b| \b\b/ \b\b- \b\b\\ \b\b| \b\b/ \b\b- \b\b\\ \b\b| \b\b/ \b\b- \b\b\\ \b\b| \b\b/ \b\b- \b\b\\ \b\b| \b\b/ \b\b- \b\b\\ \b\bdone\n"
          ],
          "name": "stdout"
        }
      ]
    },
    {
      "cell_type": "code",
      "metadata": {
        "colab": {
          "base_uri": "https://localhost:8080/"
        },
        "id": "KfFd2TB0WyXz",
        "outputId": "3c84d920-12e0-4079-9520-86205431f1cf"
      },
      "source": [
        "!pip install selfies"
      ],
      "execution_count": null,
      "outputs": [
        {
          "output_type": "stream",
          "text": [
            "Collecting selfies\n",
            "  Downloading https://files.pythonhosted.org/packages/cc/a5/4b190ee192394068827f06a9e391f3e169cf6265b6491ef8a654cb763dcb/selfies-1.0.3-py3-none-any.whl\n",
            "Installing collected packages: selfies\n",
            "Successfully installed selfies-1.0.3\n"
          ],
          "name": "stdout"
        }
      ]
    },
    {
      "cell_type": "code",
      "metadata": {
        "colab": {
          "base_uri": "https://localhost:8080/"
        },
        "id": "eZuHuSA6jF3w",
        "outputId": "a4676940-c0cb-40b8-a9e9-b7117043938f"
      },
      "source": [
        "!pip install SmilesPE"
      ],
      "execution_count": null,
      "outputs": [
        {
          "output_type": "stream",
          "text": [
            "Collecting SmilesPE\n",
            "  Downloading https://files.pythonhosted.org/packages/6d/f9/273f54d9d4b42779926291c82a5b3ffea30cff2492ebbe4ce08dccdcc949/SmilesPE-0.0.3-py3-none-any.whl\n",
            "Requirement already satisfied: fastprogress in /usr/local/lib/python3.6/dist-packages (from SmilesPE) (1.0.0)\n",
            "Requirement already satisfied: gensim in /usr/local/lib/python3.6/dist-packages (from SmilesPE) (3.6.0)\n",
            "Requirement already satisfied: numpy in /usr/local/lib/python3.6/dist-packages (from fastprogress->SmilesPE) (1.19.5)\n",
            "Requirement already satisfied: smart-open>=1.2.1 in /usr/local/lib/python3.6/dist-packages (from gensim->SmilesPE) (4.1.2)\n",
            "Requirement already satisfied: scipy>=0.18.1 in /usr/local/lib/python3.6/dist-packages (from gensim->SmilesPE) (1.4.1)\n",
            "Requirement already satisfied: six>=1.5.0 in /usr/local/lib/python3.6/dist-packages (from gensim->SmilesPE) (1.15.0)\n",
            "Installing collected packages: SmilesPE\n",
            "Successfully installed SmilesPE-0.0.3\n"
          ],
          "name": "stdout"
        }
      ]
    },
    {
      "cell_type": "code",
      "metadata": {
        "id": "G8r-gPUNjFVr"
      },
      "source": [
        "from SmilesPE.pretokenizer import atomwise_tokenizer"
      ],
      "execution_count": null,
      "outputs": []
    },
    {
      "cell_type": "code",
      "metadata": {
        "id": "iTvUHLgrSkuh"
      },
      "source": [
        "import selfies"
      ],
      "execution_count": null,
      "outputs": []
    },
    {
      "cell_type": "code",
      "metadata": {
        "id": "izQ6eaCNYCzD"
      },
      "source": [
        "import networkx as nx\n",
        "from rdkit import Chem\n",
        "from rdkit.Chem import Descriptors, AllChem\n",
        "from rdkit.Chem.Descriptors import qed, MolLogP\n",
        "from rdkit.Chem import RDConfig\n",
        "import os\n",
        "import sys\n",
        "sys.path.append(os.path.join(RDConfig.RDContribDir, 'SA_Score'))\n",
        "import sascorer"
      ],
      "execution_count": null,
      "outputs": []
    },
    {
      "cell_type": "code",
      "metadata": {
        "id": "QQ9OaQE24Yub"
      },
      "source": [
        "labels=['','[C]',\n",
        " '[#C]',\n",
        " '[=C]',\n",
        " '[c]',\n",
        " '[=c]',\n",
        " '[-c]',\n",
        " '[N]',\n",
        " '[#N]',\n",
        " '[=N]',\n",
        " '[-n]',\n",
        " '[n]',\n",
        " '[N+expl]',\n",
        " '[=N+expl]',\n",
        " '[=N-expl]',\n",
        " '[NHexpl]',\n",
        " '[=NH2+expl]',\n",
        " '[O]',\n",
        " '[=O]',\n",
        " '[o]',\n",
        " '[Oexpl]',\n",
        " '[O-expl]',\n",
        " '[F]',\n",
        " '[P]',\n",
        " '[S]',\n",
        " '[=S]',\n",
        " '[s]',\n",
        " '[Cl]',\n",
        " '[Cl-expl]',\n",
        " '[Br]',\n",
        " '[Br-expl]',\n",
        " '[I]',\n",
        " '[I-expl]',\n",
        " '[nHexpl]',\n",
        " '[Hexpl]',\n",
        " '[epsilon]',\n",
        " '[Branch1_1]',\n",
        " '[Branch1_2]',\n",
        " '[Branch1_3]',\n",
        " '[Branch2_1]',\n",
        " '[Branch2_2]',\n",
        " '[Branch2_3]',\n",
        " '[Branch3_3]',\n",
        " '[Branch3_1]',\n",
        " '[Branch3_2]',\n",
        " '[Ring1]',\n",
        " '[Expl-Ring1]',\n",
        " '[Expl=Ring1]',\n",
        " '[Ring2]',\n",
        " '[Expl-Ring2]',\n",
        " '[Expl=Ring2]',\n",
        " '[Ring3]',\n",
        " '.',\n",
        " '[C@@Hexpl]',\n",
        " '[C@Hexpl]',\n",
        " '[C@expl]',\n",
        " '[C@@expl]',\n",
        " '[/C]',\n",
        " '[\\\\C]',\n",
        " '[/S]',\n",
        " '[Expl\\\\Ring1]',\n",
        " '[/N]',\n",
        " '[\\\\N]',\n",
        " '[/C@Hexpl]',\n",
        " '[H+expl]',\n",
        " '[S-expl]',\n",
        " '[Zn+2expl]',\n",
        " '[Siexpl]',\n",
        " '[Na+expl]',\n",
        " '[\\\\S]',\n",
        " '[/O]',\n",
        " '[P@expl]',\n",
        " '[Expl/Ring2]',\n",
        " '[N-expl]',\n",
        " '[B]',\n",
        " '[\\\\C@@Hexpl]',\n",
        " '[/C@@Hexpl]',\n",
        " '[=S+expl]',\n",
        " '[Cexpl]',\n",
        " '[=Cexpl]',\n",
        " '[/Br]',\n",
        " '[/Cexpl]',\n",
        " '[/Cl]',\n",
        " '[Znexpl]',\n",
        " '[P@@expl]']"
      ],
      "execution_count": null,
      "outputs": []
    },
    {
      "cell_type": "code",
      "metadata": {
        "id": "ZHaQ6Qp03kRO"
      },
      "source": [
        "mol_dict = dict(zip(range(0,85),labels))\n",
        "mol_dict_2= dict(zip(labels,range(0,85)))"
      ],
      "execution_count": null,
      "outputs": []
    },
    {
      "cell_type": "markdown",
      "metadata": {
        "id": "VsSrpLLowxG1"
      },
      "source": [
        "# **Deep ADTP**#"
      ]
    },
    {
      "cell_type": "code",
      "metadata": {
        "id": "puqemQQciQjD"
      },
      "source": [
        "def residual_block(lyr,filter_size,kernel_size,dilation=1,padding=\"same\"):\n",
        "  reslyr=lyr\n",
        "  lyr=Conv1D(filter_size,kernel_size,activation=\"mish\",padding=padding,dilation_rate=dilation)(lyr)\n",
        "  lyr=BatchNormalization()(lyr)\n",
        "  lyr=lyrs.Add()([lyr,reslyr])\n",
        "  return lyr"
      ],
      "execution_count": null,
      "outputs": []
    },
    {
      "cell_type": "code",
      "metadata": {
        "id": "V6fCKkpDXT42",
        "colab": {
          "base_uri": "https://localhost:8080/"
        },
        "outputId": "3fbe3e7f-1e5c-4796-ee93-e9ffd3702e26"
      },
      "source": [
        "drug_input_shape=(128)\n",
        "target_input_shape=(1500)\n",
        "#_________________Target_________________\n",
        "\n",
        "target_input=Input(shape=target_input_shape)\n",
        "target_embedding=Embedding(21,170,mask_zero=True)(target_input)\n",
        "tlyr=residual_block(target_embedding,170,6,1,\"causal\")\n",
        "\n",
        "tlyr=residual_block(tlyr,170,6,2,\"causal\")\n",
        "tlyr=residual_block(tlyr,170,6,4,\"causal\")\n",
        "\n",
        "tlyr=residual_block(tlyr,170,6,8,\"causal\")\n",
        "tlyr=Conv1D(170,6,activation=\"mish\",padding=\"causal\",dilation_rate=16)(tlyr)\n",
        "tlyr=BatchNormalization()(tlyr)\n",
        "\n",
        "#_________________Drug_________________\n",
        "\n",
        "drug_input=Input(shape=drug_input_shape)\n",
        "drug_embedding=Embedding(85,170,mask_zero=True)(drug_input)\n",
        "dlyr=residual_block(drug_embedding,170,3,1,\"causal\")\n",
        "\n",
        "dlyr=residual_block(dlyr,170,3,2,\"causal\")\n",
        "dlyr=residual_block(dlyr,170,3,4,\"causal\")\n",
        "\n",
        "dlyr=residual_block(dlyr,170,3,8,\"causal\")\n",
        "dlyr=Conv1D(170,3,activation=\"mish\",padding=\"causal\",dilation_rate=16)(dlyr)\n",
        "dlyr=BatchNormalization()(dlyr)\n",
        "\n",
        "#______________Predictor______________\n",
        "\n",
        "att_dlyr=Attention()([dlyr, tlyr])\n",
        "att_dlyr=GlobalMaxPool1D()(att_dlyr)\n",
        "\n",
        "att_tlyr=Attention()([tlyr, dlyr])\n",
        "att_tlyr=GlobalMaxPool1D()(att_tlyr)\n",
        "\n",
        "lyr=concat()([att_dlyr,att_tlyr])\n",
        "\n",
        "lyr=Dense(5*170,activation=\"mish\")(lyr)\n",
        "lyr=lyrs.Dropout(0.1)(lyr)\n",
        "\n",
        "lyr=Dense(5*170,activation=\"mish\")(lyr)\n",
        "lyr=lyrs.Dropout(0.1)(lyr)\n",
        "\n",
        "lyr=Dense(5*170,activation=\"mish\")(lyr)\n",
        "output=Dense(1,activation=\"linear\")(lyr)\n",
        "\n",
        "deep_adtp=Model([target_input,drug_input],output,name=\"Deep_ADTP\")\n",
        "deep_adtp.summary()"
      ],
      "execution_count": null,
      "outputs": [
        {
          "output_type": "stream",
          "text": [
            "Model: \"Deep_ADTP\"\n",
            "__________________________________________________________________________________________________\n",
            "Layer (type)                    Output Shape         Param #     Connected to                     \n",
            "==================================================================================================\n",
            "input_4 (InputLayer)            [(None, 128)]        0                                            \n",
            "__________________________________________________________________________________________________\n",
            "input_3 (InputLayer)            [(None, 1500)]       0                                            \n",
            "__________________________________________________________________________________________________\n",
            "embedding_2 (Embedding)         (None, 128, 170)     14450       input_4[0][0]                    \n",
            "__________________________________________________________________________________________________\n",
            "embedding_1 (Embedding)         (None, 1500, 170)    3570        input_3[0][0]                    \n",
            "__________________________________________________________________________________________________\n",
            "conv1d_5 (Conv1D)               (None, 128, 170)     86870       embedding_2[0][0]                \n",
            "__________________________________________________________________________________________________\n",
            "conv1d (Conv1D)                 (None, 1500, 170)    173570      embedding_1[0][0]                \n",
            "__________________________________________________________________________________________________\n",
            "batch_normalization_5 (BatchNor (None, 128, 170)     680         conv1d_5[0][0]                   \n",
            "__________________________________________________________________________________________________\n",
            "batch_normalization (BatchNorma (None, 1500, 170)    680         conv1d[0][0]                     \n",
            "__________________________________________________________________________________________________\n",
            "add_4 (Add)                     (None, 128, 170)     0           batch_normalization_5[0][0]      \n",
            "                                                                 embedding_2[0][0]                \n",
            "__________________________________________________________________________________________________\n",
            "add (Add)                       (None, 1500, 170)    0           batch_normalization[0][0]        \n",
            "                                                                 embedding_1[0][0]                \n",
            "__________________________________________________________________________________________________\n",
            "conv1d_6 (Conv1D)               (None, 128, 170)     86870       add_4[0][0]                      \n",
            "__________________________________________________________________________________________________\n",
            "conv1d_1 (Conv1D)               (None, 1500, 170)    173570      add[0][0]                        \n",
            "__________________________________________________________________________________________________\n",
            "batch_normalization_6 (BatchNor (None, 128, 170)     680         conv1d_6[0][0]                   \n",
            "__________________________________________________________________________________________________\n",
            "batch_normalization_1 (BatchNor (None, 1500, 170)    680         conv1d_1[0][0]                   \n",
            "__________________________________________________________________________________________________\n",
            "add_5 (Add)                     (None, 128, 170)     0           batch_normalization_6[0][0]      \n",
            "                                                                 add_4[0][0]                      \n",
            "__________________________________________________________________________________________________\n",
            "add_1 (Add)                     (None, 1500, 170)    0           batch_normalization_1[0][0]      \n",
            "                                                                 add[0][0]                        \n",
            "__________________________________________________________________________________________________\n",
            "conv1d_7 (Conv1D)               (None, 128, 170)     86870       add_5[0][0]                      \n",
            "__________________________________________________________________________________________________\n",
            "conv1d_2 (Conv1D)               (None, 1500, 170)    173570      add_1[0][0]                      \n",
            "__________________________________________________________________________________________________\n",
            "batch_normalization_7 (BatchNor (None, 128, 170)     680         conv1d_7[0][0]                   \n",
            "__________________________________________________________________________________________________\n",
            "batch_normalization_2 (BatchNor (None, 1500, 170)    680         conv1d_2[0][0]                   \n",
            "__________________________________________________________________________________________________\n",
            "add_6 (Add)                     (None, 128, 170)     0           batch_normalization_7[0][0]      \n",
            "                                                                 add_5[0][0]                      \n",
            "__________________________________________________________________________________________________\n",
            "add_2 (Add)                     (None, 1500, 170)    0           batch_normalization_2[0][0]      \n",
            "                                                                 add_1[0][0]                      \n",
            "__________________________________________________________________________________________________\n",
            "conv1d_8 (Conv1D)               (None, 128, 170)     86870       add_6[0][0]                      \n",
            "__________________________________________________________________________________________________\n",
            "conv1d_3 (Conv1D)               (None, 1500, 170)    173570      add_2[0][0]                      \n",
            "__________________________________________________________________________________________________\n",
            "batch_normalization_8 (BatchNor (None, 128, 170)     680         conv1d_8[0][0]                   \n",
            "__________________________________________________________________________________________________\n",
            "batch_normalization_3 (BatchNor (None, 1500, 170)    680         conv1d_3[0][0]                   \n",
            "__________________________________________________________________________________________________\n",
            "add_7 (Add)                     (None, 128, 170)     0           batch_normalization_8[0][0]      \n",
            "                                                                 add_6[0][0]                      \n",
            "__________________________________________________________________________________________________\n",
            "add_3 (Add)                     (None, 1500, 170)    0           batch_normalization_3[0][0]      \n",
            "                                                                 add_2[0][0]                      \n",
            "__________________________________________________________________________________________________\n",
            "conv1d_9 (Conv1D)               (None, 128, 170)     86870       add_7[0][0]                      \n",
            "__________________________________________________________________________________________________\n",
            "conv1d_4 (Conv1D)               (None, 1500, 170)    173570      add_3[0][0]                      \n",
            "__________________________________________________________________________________________________\n",
            "batch_normalization_9 (BatchNor (None, 128, 170)     680         conv1d_9[0][0]                   \n",
            "__________________________________________________________________________________________________\n",
            "batch_normalization_4 (BatchNor (None, 1500, 170)    680         conv1d_4[0][0]                   \n",
            "__________________________________________________________________________________________________\n",
            "attention (Attention)           (None, 128, 170)     0           batch_normalization_9[0][0]      \n",
            "                                                                 batch_normalization_4[0][0]      \n",
            "__________________________________________________________________________________________________\n",
            "attention_1 (Attention)         (None, 1500, 170)    0           batch_normalization_4[0][0]      \n",
            "                                                                 batch_normalization_9[0][0]      \n",
            "__________________________________________________________________________________________________\n",
            "global_max_pooling1d_1 (GlobalM (None, 170)          0           attention[0][0]                  \n",
            "__________________________________________________________________________________________________\n",
            "global_max_pooling1d_2 (GlobalM (None, 170)          0           attention_1[0][0]                \n",
            "__________________________________________________________________________________________________\n",
            "concatenate (Concatenate)       (None, 340)          0           global_max_pooling1d_1[0][0]     \n",
            "                                                                 global_max_pooling1d_2[0][0]     \n",
            "__________________________________________________________________________________________________\n",
            "dense_2 (Dense)                 (None, 850)          289850      concatenate[0][0]                \n",
            "__________________________________________________________________________________________________\n",
            "dropout (Dropout)               (None, 850)          0           dense_2[0][0]                    \n",
            "__________________________________________________________________________________________________\n",
            "dense_3 (Dense)                 (None, 850)          723350      dropout[0][0]                    \n",
            "__________________________________________________________________________________________________\n",
            "dropout_1 (Dropout)             (None, 850)          0           dense_3[0][0]                    \n",
            "__________________________________________________________________________________________________\n",
            "dense_4 (Dense)                 (None, 850)          723350      dropout_1[0][0]                  \n",
            "__________________________________________________________________________________________________\n",
            "dense_5 (Dense)                 (None, 1)            851         dense_4[0][0]                    \n",
            "==================================================================================================\n",
            "Total params: 3,064,421\n",
            "Trainable params: 3,061,021\n",
            "Non-trainable params: 3,400\n",
            "__________________________________________________________________________________________________\n"
          ],
          "name": "stdout"
        }
      ]
    },
    {
      "cell_type": "code",
      "metadata": {
        "id": "7twi9A2tw59F"
      },
      "source": [
        "deep_adtp_weights_path=str(input(\"Insert deep_adtp_weights_path: \"))\n",
        "deep_adtp.load_weights(deep_adtp_weights_path)"
      ],
      "execution_count": null,
      "outputs": []
    },
    {
      "cell_type": "markdown",
      "metadata": {
        "id": "eBmJDWZlw2Wb"
      },
      "source": [
        "# **AES Search**"
      ]
    },
    {
      "cell_type": "code",
      "metadata": {
        "id": "24EW8o5rnLHZ"
      },
      "source": [
        "covid_3cl_proteiase=np.array([1,2,3,4,5,6,7,3,8,1,2,5,9,10,2,11,6,9,12,9,13,11,2,13,13,13,14,15,2,14,16,14,17,17,9,\n",
        "                     9,18,11,8,4,19,9,20,11,13,1,10,17,6,14,15,8,15,18,10,17,14,14,20,4,5,1,15,19,15,3,14,\n",
        "                     9,12,7,2,15,9,12,14,4,9,20,2,19,1,6,12,15,11,9,14,5,14,5,9,17,13,7,15,8,5,13,8,5,18,5,\n",
        "                     3,9,4,20,12,8,2,12,13,3,1,9,14,7,11,18,15,2,1,8,1,2,9,18,12,11,7,6,4,8,15,3,13,20,5,2,\n",
        "                     1,3,14,15,2,1,11,2,1,9,2,3,15,20,17,18,17,11,9,1,3,11,18,6,19,19,6,10,14,8,13,2,9,19,7,\n",
        "                     2,13,17,14,10,2,15,3,18,2,8,3,9,17,4,12,13,7,12,7,7,2,13,17,13,13,20,13,9,15,9,14,7,16,\n",
        "                     14,18,7,7,9,20,15,2,17,4,16,3,14,15,4,3,13,13,13,14,15,17,3,15,14,9,7,6,5,18,15,18,10,8,\n",
        "                     14,13,12,17,19,9,17,20,14,2,8,14,1,7,12,13,2,20,7,9,14,17,6,11,7,1,14,5,10,14,14,12,15,2,\n",
        "                     6,15,2,4,13,20,14,2,1,7,14,14,10,17,10,3,13,8,3,17,9,9,4,12,11,1,2,9,13,3,12,],dtype=np.float32)"
      ],
      "execution_count": null,
      "outputs": []
    },
    {
      "cell_type": "code",
      "metadata": {
        "id": "OI4ZvX1cfOmd"
      },
      "source": [
        "covid_3cl_proteiase_new=np.empty((1,1500))\n",
        "for j in range(306):\n",
        "  covid_3cl_proteiase_new[0][j]=covid_3cl_proteiase[j]\n",
        "for i in range(306,1500):\n",
        "  covid_3cl_proteiase_new[0][i]=0"
      ],
      "execution_count": null,
      "outputs": []
    },
    {
      "cell_type": "code",
      "metadata": {
        "id": "qaOAmmcRfr3a"
      },
      "source": [
        "covid_3cl_proteiase=covid_3cl_proteiase_new"
      ],
      "execution_count": null,
      "outputs": []
    },
    {
      "cell_type": "code",
      "metadata": {
        "id": "yrMs-C6QucZG"
      },
      "source": [
        "def onehot_to_tokenized(onehot):\n",
        "  tokenized=np.empty([1,128])\n",
        "  for i in range(128):\n",
        "    tokenized[0][i]=np.argmax(onehot[0][i])\n",
        "  return tokenized"
      ],
      "execution_count": null,
      "outputs": []
    },
    {
      "cell_type": "code",
      "metadata": {
        "id": "bWSpRlx2Ou1q"
      },
      "source": [
        "def onehot_to_smiles(onehot):\n",
        "  selfies_mol=\"\"\n",
        "  for i in range(128):\n",
        "    selfies_mol+=mol_dict[np.argmax(onehot[0][i])]\n",
        "  smiles=selfies.decoder(selfies_mol)\n",
        "\n",
        "  return smiles"
      ],
      "execution_count": null,
      "outputs": []
    },
    {
      "cell_type": "code",
      "metadata": {
        "id": "Do2KRDjuQ-86"
      },
      "source": [
        "#Penalized LogP fonksiyonunun kodu You, J., Liu, B., Ying, R., Pande, V., & Leskovec, J. (2019, February 25).\n",
        "#Graph Convolutional Policy Network for Goal-Directed Molecular Graph Generation. arXiv.org. https://arxiv.org/abs/1806.02473. adlı kağıttan alınmıştır.\n",
        "#Baştan tanımlanan ortalama ve standart sapma parametreleri ZINC 250k veri seti üzerinden hesaplanmıştır.\n",
        "def plogp_calculate(mol):\n",
        "\n",
        "    logP_mean = 2.4570953396190123\n",
        "    logP_std = 1.434324401111988\n",
        "    SA_mean = -3.0525811293166134\n",
        "    SA_std = 0.8335207024513095\n",
        "    cycle_mean = -0.0485696876403053\n",
        "    cycle_std = 0.2860212110245455\n",
        "\n",
        "    try:\n",
        "        log_p = MolLogP(mol)\n",
        "    except ValueError:\n",
        "        return 0\n",
        "    try:\n",
        "        SA = -sascorer.calculateScore(mol)\n",
        "    except ZeroDivisionError:\n",
        "        return 0\n",
        "\n",
        "    cycle_list = nx.cycle_basis(nx.Graph(\n",
        "        Chem.rdmolops.GetAdjacencyMatrix(mol)))\n",
        "    if len(cycle_list) == 0:\n",
        "        cycle_length = 0\n",
        "    else:\n",
        "        cycle_length = max([len(j) for j in cycle_list])\n",
        "    if cycle_length <= 6:\n",
        "        cycle_length = 0\n",
        "    else:\n",
        "        cycle_length = cycle_length - 6\n",
        "    cycle_score = -cycle_length\n",
        "\n",
        "    normalized_log_p = (log_p - logP_mean) / logP_std\n",
        "    normalized_SA = (SA - SA_mean) / SA_std\n",
        "    normalized_cycle = (cycle_score - cycle_mean) / cycle_std\n",
        "\n",
        "    return normalized_log_p + normalized_SA + normalized_cycle"
      ],
      "execution_count": null,
      "outputs": []
    },
    {
      "cell_type": "code",
      "metadata": {
        "id": "loNWpregBsTs"
      },
      "source": [
        "def fitness_func(solution,typ):\n",
        "\n",
        "  #COVID 3CL Proteiase score\n",
        "  if typ=\"3CL\":\n",
        "    global covid_3cl_proteiase\n",
        "    solution_mol=onehot_to_tokenized(mae_decoder.predict(solution))\n",
        "    BindAff=deep_adtp.predict([covid_3cl_proteiase,solution_mol])\n",
        "\n",
        "    return -BindAff\n",
        "\n",
        "  #QED score\n",
        "  elif typ==\"QED\"\n",
        "    solution_mol=mae_decoder.predict(solution)\n",
        "    mol=onehot_to_smiles(solution_mol)\n",
        "    try:\n",
        "      mol=Chem.CanonSmiles(mol)\n",
        "      mol=Chem.MolFromSmiles(mol)\n",
        "      qed_score=qed(mol)\n",
        "    except:\n",
        "      qed_score=0\n",
        "    return -qed_score\n",
        "\n",
        "  #PlogP score\n",
        "  elif typ==\"PlogP\":\n",
        "    solution_mol=mae_decoder.predict(solution)\n",
        "    mol=onehot_to_smiles(solution_mol)\n",
        "    try:\n",
        "      mol=Chem.CanonSmiles(mol)\n",
        "      mol=Chem.MolFromSmiles(mol)\n",
        "      Plogp_score=plogp_calculate(mol)\n",
        "    except:\n",
        "      Plogp_score=-10\n",
        "    return -Plogp_score"
      ],
      "execution_count": null,
      "outputs": []
    },
    {
      "cell_type": "code",
      "metadata": {
        "id": "PvoN1Io_tXG7"
      },
      "source": [
        "class host():\n",
        "  def __init__(self,h_type,solution):\n",
        "    #Viral RNA that represents possible solution. is an array in array for model purposes\n",
        "    self.solution = solution\n",
        "    #Hosts level of health i.e healthy,mild,severe or critical\n",
        "    self.h_type = h_type\n",
        "    self.age=0\n",
        "    #Intensity initialization functionında farklı olarak tanımlanacam\n",
        "    self.m_intensity=solution.shape[0]/10 #1,-1\n",
        "    self.s_intensity=1/np.random.random()\n",
        "    #Currently used intensity vector which is added to the solution in the mutation function\n",
        "    self.intensity = None\n",
        "    #Fitness value gotten from the fitness function\n",
        "    self.fitness = None"
      ],
      "execution_count": null,
      "outputs": []
    },
    {
      "cell_type": "code",
      "metadata": {
        "id": "ov6RJ4vYxCDw"
      },
      "source": [
        "class AES_Search(host):\n",
        "  def __init__(self,latent_dim,decay,a,y_exploit,H,population_size,recov_percent,infection_rates,trans_probs,bgmm_sampler,fitness_type=\"3CL\",VSO=False):\n",
        "\n",
        "    #Latent Dimension\n",
        "    self.latent_dim=latent_dim\n",
        "\n",
        "    #Infection rates is a dictionary. It contains the probabilities of healthy hosts being infected by infected hosts depending on which type of infected host they are\n",
        "    self.infection_rates=infection_rates\n",
        "    self.init_inf_rates=infection_rates\n",
        "\n",
        "    #Transformation probabilities is a dictionary. It contains the probabilities for an infected healthy host to be turned into a mild or severe host depending on which type of infected host they've been infected by\n",
        "    self.trans_probs=trans_probs\n",
        "\n",
        "    #decay is a coefficient in the calculation of s_intensity\n",
        "    self.decay = decay\n",
        "    self.init_decay=decay\n",
        "\n",
        "    #a is a coefficient in the calculation of m_intensity\n",
        "    self.a = a\n",
        "    #y_exploit is a coefficient in the calculation of m_intensity\n",
        "    self.y_exploit = y_exploit\n",
        "    self.init_y_exploit=y_exploit\n",
        "\n",
        "    #H is the maximum number of healthy hosts that can be contacted by an infected host\n",
        "    self.H = H\n",
        "    self.init_H=H\n",
        "\n",
        "    #Number of hosts\n",
        "    self.population_size = population_size\n",
        "    #Recov percent is a percentage used in recovery\n",
        "    self.recov_percent = recov_percent\n",
        "    self.init_recov_percent=recov_percent\n",
        "\n",
        "    #The current critical host of the search. This is an instance of the host class\n",
        "    self.crit = None\n",
        "    #The index of the critical host in the hosts list\n",
        "    self.crit_index = None\n",
        "\n",
        "    #Hosts is a list which contains all population_size of hosts. Hosts have solution, h_type,...\n",
        "    self.hosts = []\n",
        "    #Infected and healthy hosts are dictionaries. These dictionaries contain the infected and healthy hosts of the hosts list as their keys and their indexes in the hosts list as thier values\n",
        "    self.infected_hosts = {}\n",
        "    self.healthy_hosts = {}\n",
        "\n",
        "    #Random solution generator. Makes np.array random solutions\n",
        "    self.bgmm_sampler=bgmm_sampler\n",
        "    self.crit_age=0\n",
        "\n",
        "    #Sum of healthy host fitness values for each epoch\n",
        "    self.healthy_host_loss=0\n",
        "    #Sum of mild and severe host fitness values for each epoch\n",
        "    self.infected_host_loss=0\n",
        "\n",
        "    self.infected_count=0\n",
        "    self.healthy_count=0\n",
        "\n",
        "    self.fitness_type=fitness_type\n",
        "    self.VSO=VSO\n",
        "\n",
        "\n",
        "  #Initialize is the first initialization of all random hosts.\n",
        "  #Works! --> Bound işlemlerine bak, sayfa 5 altı\n",
        "  def initialize(self):\n",
        "    for i in range(self.population_size):\n",
        "      rand_sol=self.bgmm_sampler.sample()[0]\n",
        "      self.hosts.append(host('healthy',rand_sol))\n",
        "\n",
        "  #Selection is where all hosts are given their fitness values. After this the one with the best fitness value is chosenn as the critical host\n",
        "  #Works! --> Crit age şeylerine bak, bi de reset function\n",
        "  def selection(self):\n",
        "    #Crit age bak\n",
        "    self.crit_age+=1\n",
        "\n",
        "    for i in range(len(self.hosts)):\n",
        "\n",
        "      if self.crit == None:\n",
        "        self.hosts[i].h_type = \"critical\"\n",
        "        self.hosts[i].fitness = fitness_func(self.hosts[i].solution,self.fitness_type)\n",
        "        self.crit_index = i\n",
        "        self.crit = self.hosts[i]\n",
        "\n",
        "        #Crit age bak\n",
        "        self.crit_age=0\n",
        "      else:\n",
        "        self.hosts[i].fitness = fitness_func(self.hosts[i].solution,self.fitness_type)\n",
        "        if self.crit.fitness>self.hosts[i].fitness:\n",
        "          self.hosts[i].h_type = \"critical\"\n",
        "          self.hosts[self.crit_index].h_type = \"severe\"\n",
        "          self.crit_index = i\n",
        "          self.crit = self.hosts[i]\n",
        "\n",
        "          #Crit age bak\n",
        "          self.crit_age=0\n",
        "\n",
        "          #Reset function bak\n",
        "          self.reset()\n",
        "\n",
        "      if self.hosts[i].h_type==\"healthy\":\n",
        "        self.healthy_count+=1\n",
        "        self.healthy_host_loss+=self.hosts[i].fitness\n",
        "      elif self.hosts[i].h_type==\"mild\" or self.hosts[i].h_type==\"severe\":\n",
        "        self.infected_count+=1\n",
        "        self.infected_host_loss+=self.hosts[i].fitness\n",
        "\n",
        "\n",
        "  #Mutation açıklamasını yazarsın\n",
        "  #Works! --> Random functionlarını kontrol et\n",
        "  def mutate(self):\n",
        "    for i in range(len(self.hosts)):\n",
        "      if self.hosts[i].h_type == \"healthy\":\n",
        "        self.hosts[i].solution+=np.random.uniform(low=0,high=2,size=[1,self.latent_dim])*(self.crit.solution+self.hosts[i].solution)\n",
        "        self.hosts[i].fitness = fitness_func(self.hosts[i].solution,self.fitness_type)\n",
        "\n",
        "      elif self.hosts[i].h_type == \"mild\":\n",
        "        self.hosts[i].intensity = self.a * self.hosts[i].m_intensity + self.y_exploit * np.random.random([1,self.latent_dim]) * (self.crit.solution - self.hosts[i].solution)\n",
        "        self.hosts[i].solution += self.hosts[i].intensity\n",
        "        self.hosts[i].fitness = fitness_func(self.hosts[i].solution,self.fitness_type)\n",
        "\n",
        "      elif self.hosts[i].h_type == \"severe\":\n",
        "        self.hosts[i].intensity = self.decay * self.hosts[i].s_intensity\n",
        "        self.hosts[i].solution += self.hosts[i].solution * np.random.normal(size = [1,self.latent_dim],scale=self.hosts[i].intensity)\n",
        "        self.hosts[i].fitness = fitness_func(self.hosts[i].solution,self.fitness_type)\n",
        "\n",
        "  #Divides the hosts list into healthy and infected, more info on the variables at the top\n",
        "  def make_lists(self):\n",
        "    self.healthy_hosts = {}\n",
        "    self.infected_hosts = {}\n",
        "    for i in range(len(self.hosts)):\n",
        "      if self.hosts[i].h_type == \"healthy\":\n",
        "        self.healthy_hosts[self.hosts[i]] = i\n",
        "      else:\n",
        "        self.infected_hosts[self.hosts[i]] = i\n",
        "\n",
        "  #Random functionlarına bak\n",
        "  #Works!\n",
        "  def infect(self):\n",
        "    #Index variables:\n",
        "    #i is the index for infected_fitness_sorted\n",
        "    #j is the index for healthy_fitness_sorted\n",
        "\n",
        "    #Infected fitness sorted is a list that only contains the infected hosts in an ascending order of their fitness values\n",
        "    infected_fitness_sorted = [a for a in self.infected_hosts.keys()]\n",
        "    infected_fitness_sorted.sort(key = lambda i: i.fitness)\n",
        "\n",
        "    for i in range(len(infected_fitness_sorted)):\n",
        "      #For this if statement we need to use the healthy hosts dictionary because the healthy fitness sorted list hasn't been made yet\n",
        "      if len(list(self.healthy_hosts.keys())) >= self.H:\n",
        "        #Healthy fitness sorted is a list that only contains the healthy hosts in an descending order of their fitness values\n",
        "        healthy_fitness_sorted = [a for a in self.healthy_hosts.keys()]\n",
        "        healthy_fitness_sorted.sort(key = lambda g: g.fitness,reverse = True)\n",
        "\n",
        "        #Contacted hosts are the first H hosts of the healthy_fitness_sorted list which is sorted according to descending fitness value\n",
        "        contacted_hosts = healthy_fitness_sorted[:self.H]\n",
        "\n",
        "        for j in range(len(contacted_hosts)):\n",
        "          #Infected is whether the healthy host has been infected or not\n",
        "          infected = False\n",
        "          #T is the h_type of the infecting host\n",
        "          T = infected_fitness_sorted[i].h_type\n",
        "          #Infection rate is determined by the h_type of the infecting host\n",
        "          infection_rate = self.infection_rates[T]\n",
        "\n",
        "          #Decides whether the healthy host will be infected or not\n",
        "          if infection_rate >= np.random.random():\n",
        "            infected = True\n",
        "\n",
        "          #If infected, the healthy host turns into a mild or severe host\n",
        "          if infected == True:\n",
        "            #Transformation probabilities\n",
        "            tp1, tp2 = self.trans_probs[T][0], self.trans_probs[T][1]\n",
        "\n",
        "            #Num is the random number that decides whether the healthy host will turn into a mild or severe host\n",
        "            num = np.random.random()\n",
        "\n",
        "            if 0 <= num and num <= tp1:\n",
        "              to_be_infected_type = \"mild\"\n",
        "\n",
        "            else:\n",
        "              to_be_infected_type = \"severe\"\n",
        "\n",
        "            host_index = self.healthy_hosts[healthy_fitness_sorted[j]]\n",
        "\n",
        "            if to_be_infected_type == \"mild\":\n",
        "              healthy_fitness_sorted[j].h_type = \"mild\"\n",
        "\n",
        "              for idx in range(self.latent_dim):\n",
        "                if 0.5 >= np.random.random():\n",
        "                  healthy_fitness_sorted[j].solution[0][idx] = infected_fitness_sorted[i].solution[0][idx]\n",
        "                  healthy_fitness_sorted[j].fitness = fitness_func(healthy_fitness_sorted[j].solution)\n",
        "\n",
        "            elif to_be_infected_type == \"severe\":\n",
        "              healthy_fitness_sorted[j].h_type = \"severe\"\n",
        "              healthy_fitness_sorted[j].solution = infected_fitness_sorted[i].solution\n",
        "              healthy_fitness_sorted[j].fitness = fitness_func(healthy_fitness_sorted[j].solution)\n",
        "\n",
        "            self.hosts[host_index] = healthy_fitness_sorted[j]\n",
        "            self.make_lists()\n",
        "\n",
        "  def recover(self):\n",
        "    infected_fitness_sorted = [a for a in self.infected_hosts.keys()]\n",
        "    infected_fitness_sorted.sort(key = lambda i: i.fitness,reverse=True)\n",
        "\n",
        "    if len(infected_fitness_sorted) == self.population_size:\n",
        "      #Rev num is the number of infected hosts that will recover\n",
        "      rev_num = self.recov_percent*self.population_size\n",
        "      recovery_hosts = infected_fitness_sorted[:int(rev_num)]\n",
        "\n",
        "      for i in range(len(recovery_hosts)):\n",
        "        host_index = self.infected_hosts[recovery_hosts[i]]\n",
        "        recovery_hosts[i].solution = self.bgmm_sampler.sample()[0]\n",
        "        recovery_hosts[i].fitness = fitness_func(recovery_hosts[i].solution)\n",
        "\n",
        "        if recovery_hosts[i].h_type==\"severe\":\n",
        "          recovery_hosts[i].h_type = \"mild\"\n",
        "\n",
        "        elif recovery_hosts[i].h_type == \"mild\":\n",
        "          recovery_hosts[i].h_type = \"healthy\"\n",
        "\n",
        "        self.hosts[host_index] = recovery_hosts[i]\n",
        "\n",
        "  def adaptation_function(self,crit_age):\n",
        "    return 1/(1+np.e**(9-crit_age))\n",
        "\n",
        "  def adaptation(self):\n",
        "    if self.VSO==False\n",
        "      p_coeff=self.adaptation_function(self.crit_age)\n",
        "\n",
        "      self.recov_percent=min(p_coeff,0.75)\n",
        "      self.y_exploit=p_coeff+1\n",
        "\n",
        "      for i in self.infection_rates.keys():\n",
        "        self.infection_rates[i]/=p_coeff+1\n",
        "\n",
        "      self.H=(int(self.init_H-(p_coeff*self.init_H)))\n",
        "      self.decay=min(int(self.init_decay+(p_coeff/10)),0.99)\n",
        "    else:\n",
        "      continue\n",
        "\n",
        "  def reset(self):\n",
        "    if self.VSO==False\n",
        "      self.decay=self.init_decay\n",
        "      self.H=self.init_H\n",
        "      self.infection_rates=self.init_inf_rates\n",
        "      self.recov_percent=self.init_recov_percent\n",
        "      self.y_exploit=self.init_y_exploit\n",
        "    else:\n",
        "      continue\n",
        "\n",
        "  def results(self):\n",
        "    print(\n",
        "        \"\\nCritical_Host_Loss:\",-self.crit.fitness,\n",
        "        \"\\nCrit-Age:\",self.crit_age,\n",
        "        \"\\nHealthy_Host_Loss:\",-1*self.healthy_host_loss/self.healthy_count,\n",
        "        \"\\nInfected_Host_Loss:\",-1*self.infected_host_loss/self.infected_count,\n",
        "    )\n",
        "    self.infected_host_loss=0\n",
        "    self.healthy_host_loss=0\n",
        "    self.infected_count=0\n",
        "    self.healthy_count=0"
      ],
      "execution_count": null,
      "outputs": []
    },
    {
      "cell_type": "code",
      "metadata": {
        "id": "KhvacAeixH-O"
      },
      "source": [
        "AES_module=AES_Search(latent_dim,0.9,1,2,20,400,0.3,\n",
        "                      {\"mild\":0.2,\"severe\":0.5,\"critical\":0.8},\n",
        "                      {\"mild\":[0.7,0.3],\"severe\":[0.5,0.5],\"critical\":[0.3,0.7]},\n",
        "                      bgmm_sampler,False)"
      ],
      "execution_count": null,
      "outputs": []
    },
    {
      "cell_type": "markdown",
      "metadata": {
        "id": "YSOvOyYnxR3Q"
      },
      "source": [
        "# **Produce Potential Drugs**"
      ]
    },
    {
      "cell_type": "code",
      "metadata": {
        "id": "CeveUBuSJTLH"
      },
      "source": [
        "AES_module.initialize()\n",
        "AES_module.selection()"
      ],
      "execution_count": null,
      "outputs": []
    },
    {
      "cell_type": "code",
      "metadata": {
        "id": "S6W6cMhNDvYi"
      },
      "source": [
        "num_epoch=int(input(\"Enter Epoch:\"))\n",
        "for i in range(num_epoch):\n",
        "  AES_module.mutate()\n",
        "  AES_module.make_lists()\n",
        "  AES_module.infect()\n",
        "  AES_module.make_lists()\n",
        "  AES_module.recover()\n",
        "  AES_module.make_lists()\n",
        "  AES_module.adaptation()\n",
        "  AES_module.selection()\n",
        "  AES_module.results()"
      ],
      "execution_count": null,
      "outputs": []
    },
    {
      "cell_type": "code",
      "metadata": {
        "id": "c2V7JgTICkGl"
      },
      "source": [
        "infected=list(AES_module.infected_hosts.keys())\n",
        "lenght_count=0\n",
        "for j in range(len(infected)):\n",
        "  if infected[j].h_type==\"severe\" or infected[j].h_type==\"critical\":\n",
        "    lenght_count+=1\n",
        "\n",
        "generated_solutions_1=np.empty((1,lenght_count,latent_dim))\n",
        "index_count=0\n",
        "\n",
        "for i in range(len(infected)):\n",
        "  if infected[i].h_type==\"severe\" or infected[i].h_type==\"critical\":\n",
        "    generated_solutions[0][index_count]=infected[i].solution\n",
        "    index_count+=1"
      ],
      "execution_count": null,
      "outputs": []
    },
    {
      "cell_type": "code",
      "metadata": {
        "id": "_REB_XSMuPmW"
      },
      "source": [
        "generated_mols_path=str(input(\"Insert Path: \"))\n",
        "np.save(generated_mols_path,generated_sols)"
      ],
      "execution_count": null,
      "outputs": []
    }
  ]
}